{
 "cells": [
  {
   "cell_type": "markdown",
   "id": "568bbcbe",
   "metadata": {},
   "source": [
    "# PLANT LEAF DISEASE CLASSFICATION"
   ]
  },
  {
   "cell_type": "code",
   "execution_count": 59,
   "id": "e5ba1144",
   "metadata": {},
   "outputs": [],
   "source": [
    "import numpy as np\n",
    "import pickle\n",
    "import cv2\n",
    "import os\n",
    "import matplotlib.pyplot as plt\n",
    "from os import listdir\n",
    "from sklearn.preprocessing import LabelBinarizer\n",
    "from keras.models import Sequential\n",
    "from keras.layers.normalization import BatchNormalization\n",
    "from keras.layers.convolutional import Conv2D\n",
    "from keras.layers.convolutional import MaxPooling2D\n",
    "from keras.layers.core import Activation, Flatten, Dropout, Dense\n",
    "from keras import backend as K\n",
    "from keras.preprocessing.image import ImageDataGenerator\n",
    "from keras.optimizers import Adam\n",
    "from keras.preprocessing import image\n",
    "from keras.preprocessing.image import img_to_array\n",
    "from sklearn.preprocessing import MultiLabelBinarizer\n",
    "from sklearn.model_selection import train_test_split"
   ]
  },
  {
   "cell_type": "code",
   "execution_count": 60,
   "id": "321c3776",
   "metadata": {},
   "outputs": [],
   "source": [
    "# Loading Dataset\n",
    "# initializing parameters req for the img dataset preprosseing"
   ]
  },
  {
   "cell_type": "code",
   "execution_count": 61,
   "id": "68c1c8d8",
   "metadata": {},
   "outputs": [],
   "source": [
    "# Dimension of resized image\n",
    "DEFAULT_IMAGE_SIZE = tuple((256, 256))\n",
    "\n",
    "# Number of images used to train the model\n",
    "N_IMAGES = 200\n",
    "\n",
    "# Path to the dataset folder\n",
    "root_dir = 'Plant_dataset//'\n",
    "\n",
    "train_dir = os.path.join(root_dir, 'Dataset')"
   ]
  },
  {
   "cell_type": "code",
   "execution_count": 63,
   "id": "031089b8",
   "metadata": {},
   "outputs": [
    {
     "name": "stdout",
     "output_type": "stream",
     "text": [
      "['Dataset']\n"
     ]
    }
   ],
   "source": [
    "f = os.listdir(directory_root)\n",
    "print(f)\n",
    "# plant_disease_folder_list = listdir(train_dir)\n",
    "# print(plant_disease_folder_list)"
   ]
  },
  {
   "cell_type": "code",
   "execution_count": 64,
   "id": "ef0dc7b7",
   "metadata": {},
   "outputs": [],
   "source": [
    "# convert images to array\n",
    "def convert_image_to_array(image_dir):\n",
    "    try:\n",
    "        image = cv2.imread(image_dir)\n",
    "        if image is not None:\n",
    "            image = cv2.resize(image, DEFAULT_IMAGE_SIZE)   \n",
    "            return img_to_array(image)\n",
    "        else:\n",
    "            return np.array([])\n",
    "    except Exception as e:\n",
    "        print(f\"Error : {e}\")\n",
    "        return None"
   ]
  },
  {
   "cell_type": "code",
   "execution_count": 68,
   "id": "f9e81378",
   "metadata": {},
   "outputs": [
    {
     "name": "stdout",
     "output_type": "stream",
     "text": [
      "[INFO] Loading images ...\n",
      "[INFO] Processing Pepper__bell___Bacterial_spot ...\n",
      "[INFO] Processing Pepper__bell___healthy ...\n",
      "[INFO] Processing Potato___Early_blight ...\n",
      "[INFO] Processing Potato___healthy ...\n",
      "[INFO] Processing Potato___Late_blight ...\n",
      "[INFO] Processing Tomato_Bacterial_spot ...\n",
      "[INFO] Processing Tomato_Early_blight ...\n",
      "[INFO] Processing Tomato_healthy ...\n",
      "[INFO] Processing Tomato_Late_blight ...\n",
      "[INFO] Processing Tomato_Leaf_Mold ...\n",
      "[INFO] Processing Tomato_Septoria_leaf_spot ...\n",
      "[INFO] Processing Tomato_Spider_mites_Two_spotted_spider_mite ...\n",
      "[INFO] Processing Tomato__Target_Spot ...\n",
      "[INFO] Processing Tomato__Tomato_mosaic_virus ...\n",
      "[INFO] Processing Tomato__Tomato_YellowLeaf__Curl_Virus ...\n",
      "[INFO] Image loading completed\n"
     ]
    }
   ],
   "source": [
    "image_list, label_list = [], []\n",
    "\n",
    "try:\n",
    "    print(\"[INFO] Loading images ...\")\n",
    "#     print(\"sads\")\n",
    "    plant_disease_folder_list = listdir(train_dir)\n",
    "#     print(plant_disease_folder_list)\n",
    "\n",
    "    for plant_disease_folder in plant_disease_folder_list:\n",
    "        print(f\"[INFO] Processing {plant_disease_folder} ...\")\n",
    "        plant_disease_image_list = listdir(f\"{train_dir}/{plant_disease_folder}/\")\n",
    "#         print(plant_disease_image_list)\n",
    "#         print(plant_disease_image_list[:N_IMAGES])\n",
    "\n",
    "        for image in plant_disease_image_list[:N_IMAGES]:\n",
    "            image_directory = f\"{train_dir}/{plant_disease_folder}/{image}\"\n",
    "#             print(image_directory)\n",
    "\n",
    "            if image_directory.endswith(\".jpg\")==True or image_directory.endswith(\".JPG\")==True:\n",
    "                image_list.append(convert_image_to_array(image_directory))\n",
    "                label_list.append(plant_disease_folder)\n",
    "\n",
    "    print(\"[INFO] Image loading completed\")  \n",
    "except Exception as e:\n",
    "    print(f\"Error : {e}\")\n",
    "\n",
    "# Transform the loaded training image data into numpy array\n",
    "np_image_list = np.array(image_list, dtype=np.float16) / 225.0"
   ]
  },
  {
   "cell_type": "code",
   "execution_count": 69,
   "id": "ef8193f6",
   "metadata": {},
   "outputs": [
    {
     "name": "stdout",
     "output_type": "stream",
     "text": [
      "Total number of images: 2952\n"
     ]
    }
   ],
   "source": [
    "# Check the number of images loaded for training\n",
    "image_len = len(image_list)\n",
    "print(f\"Total number of images: {image_len}\")"
   ]
  },
  {
   "cell_type": "code",
   "execution_count": 74,
   "id": "d421177e",
   "metadata": {
    "scrolled": true
   },
   "outputs": [],
   "source": [
    "# Examine the labels/classes in the training dataset\n",
    "\n",
    "label_binarizer = LabelBinarizer()\n",
    "image_labels = label_binarizer.fit_transform(label_list)\n",
    "# print(image_labels)"
   ]
  },
  {
   "cell_type": "code",
   "execution_count": 75,
   "id": "a5167721",
   "metadata": {},
   "outputs": [
    {
     "name": "stdout",
     "output_type": "stream",
     "text": [
      "Total number of classes:  15\n"
     ]
    }
   ],
   "source": [
    "pickle.dump(label_binarizer,open('plant_disease_label_transform.pkl', 'wb'))\n",
    "n_classes = len(label_binarizer.classes_)\n",
    "\n",
    "print(\"Total number of classes: \", n_classes)"
   ]
  },
  {
   "cell_type": "code",
   "execution_count": 81,
   "id": "702a1183",
   "metadata": {},
   "outputs": [
    {
     "name": "stdout",
     "output_type": "stream",
     "text": [
      "['Pepper__bell___Bacterial_spot' 'Pepper__bell___healthy'\n",
      " 'Potato___Early_blight' 'Potato___Late_blight' 'Potato___healthy'\n",
      " 'Tomato_Bacterial_spot' 'Tomato_Early_blight' 'Tomato_Late_blight'\n",
      " 'Tomato_Leaf_Mold' 'Tomato_Septoria_leaf_spot'\n",
      " 'Tomato_Spider_mites_Two_spotted_spider_mite' 'Tomato__Target_Spot'\n",
      " 'Tomato__Tomato_YellowLeaf__Curl_Virus' 'Tomato__Tomato_mosaic_virus'\n",
      " 'Tomato_healthy']\n"
     ]
    }
   ],
   "source": [
    "print(label_binarizer.classes_)"
   ]
  },
  {
   "cell_type": "code",
   "execution_count": 78,
   "id": "995d623a",
   "metadata": {},
   "outputs": [
    {
     "name": "stdout",
     "output_type": "stream",
     "text": [
      "<tensorflow.python.keras.preprocessing.image.ImageDataGenerator object at 0x0000021871B7D310>\n"
     ]
    }
   ],
   "source": [
    "# Using ImageDataGenerator to augment data by performing various operations on the training images.\n",
    "\n",
    "augment = ImageDataGenerator(rotation_range=25, width_shift_range=0.1,\n",
    "                             height_shift_range=0.1, shear_range=0.2, \n",
    "                             zoom_range=0.2, horizontal_flip=True, \n",
    "                             fill_mode=\"nearest\")\n",
    "\n",
    "print(augment)"
   ]
  },
  {
   "cell_type": "code",
   "execution_count": 80,
   "id": "0fccc0c9",
   "metadata": {},
   "outputs": [
    {
     "name": "stdout",
     "output_type": "stream",
     "text": [
      "[INFO] Splitting data to train and test...\n"
     ]
    }
   ],
   "source": [
    "# Splitting the data into training and test sets for validation purpose.\n",
    "\n",
    "print(\"[INFO] Splitting data to train and test...\")\n",
    "x_train, x_test, y_train, y_test = train_test_split(np_image_list, image_labels, test_size=0.2, random_state = 42) "
   ]
  },
  {
   "cell_type": "code",
   "execution_count": 82,
   "id": "3ae23bfd",
   "metadata": {},
   "outputs": [],
   "source": [
    "EPOCHS = 25\n",
    "STEPS = 100\n",
    "LR = 1e-3  #The initial learning rate — a value of 1e-3 is the default value for the Adam optimizer, the optimizer we will be using to train the network\n",
    "BATCH_SIZE = 32\n",
    "WIDTH = 256\n",
    "HEIGHT = 256\n",
    "DEPTH = 3"
   ]
  },
  {
   "cell_type": "markdown",
   "id": "bf2337c7",
   "metadata": {},
   "source": [
    "Creating a sequential model and adding Convolutional, Normalization, Pooling, Dropout and Activation layers at the appropriate positions."
   ]
  },
  {
   "cell_type": "code",
   "execution_count": 87,
   "id": "b41da2d8",
   "metadata": {},
   "outputs": [],
   "source": [
    "model = Sequential()\n",
    "inputShape = (HEIGHT, WIDTH, DEPTH)\n",
    "chanDim = -1\n",
    "\n",
    "if K.image_data_format() == \"channels_first\":\n",
    "    inputShape = (DEPTH, HEIGHT, WIDTH)\n",
    "    chanDim = 1\n",
    "\n",
    "model.add(Conv2D(32, (3, 3), padding=\"same\",input_shape=inputShape))\n",
    "model.add(Activation(\"relu\"))\n",
    "model.add(BatchNormalization(axis=chanDim))\n",
    "model.add(MaxPooling2D(pool_size=(3, 3)))\n",
    "model.add(Dropout(0.25))\n",
    "\n",
    "model.add(Conv2D(64, (3, 3), padding=\"same\"))\n",
    "model.add(Activation(\"relu\"))\n",
    "model.add(BatchNormalization(axis=chanDim))\n",
    "\n",
    "model.add(Conv2D(64, (3, 3), padding=\"same\"))\n",
    "model.add(Activation(\"relu\"))\n",
    "model.add(BatchNormalization(axis=chanDim))\n",
    "model.add(MaxPooling2D(pool_size=(2, 2)))\n",
    "model.add(Dropout(0.25))\n",
    "\n",
    "model.add(Conv2D(128, (3, 3), padding=\"same\"))\n",
    "model.add(Activation(\"relu\"))\n",
    "model.add(BatchNormalization(axis=chanDim))\n",
    "\n",
    "model.add(Conv2D(128, (3, 3), padding=\"same\"))\n",
    "model.add(Activation(\"relu\"))\n",
    "model.add(BatchNormalization(axis=chanDim))\n",
    "model.add(MaxPooling2D(pool_size=(2, 2)))\n",
    "model.add(Dropout(0.25))\n",
    "\n",
    "model.add(Flatten())\n",
    "model.add(Dense(1024))\n",
    "model.add(Activation(\"relu\"))\n",
    "model.add(BatchNormalization())\n",
    "model.add(Dropout(0.5))\n",
    "model.add(Dense(n_classes))\n",
    "model.add(Activation(\"softmax\"))\n"
   ]
  },
  {
   "cell_type": "code",
   "execution_count": 88,
   "id": "657420ba",
   "metadata": {},
   "outputs": [
    {
     "name": "stdout",
     "output_type": "stream",
     "text": [
      "Model: \"sequential_1\"\n",
      "_________________________________________________________________\n",
      "Layer (type)                 Output Shape              Param #   \n",
      "=================================================================\n",
      "conv2d_5 (Conv2D)            (None, 256, 256, 32)      896       \n",
      "_________________________________________________________________\n",
      "activation_7 (Activation)    (None, 256, 256, 32)      0         \n",
      "_________________________________________________________________\n",
      "batch_normalization_6 (Batch (None, 256, 256, 32)      128       \n",
      "_________________________________________________________________\n",
      "max_pooling2d_3 (MaxPooling2 (None, 85, 85, 32)        0         \n",
      "_________________________________________________________________\n",
      "dropout_4 (Dropout)          (None, 85, 85, 32)        0         \n",
      "_________________________________________________________________\n",
      "conv2d_6 (Conv2D)            (None, 85, 85, 64)        18496     \n",
      "_________________________________________________________________\n",
      "activation_8 (Activation)    (None, 85, 85, 64)        0         \n",
      "_________________________________________________________________\n",
      "batch_normalization_7 (Batch (None, 85, 85, 64)        256       \n",
      "_________________________________________________________________\n",
      "conv2d_7 (Conv2D)            (None, 85, 85, 64)        36928     \n",
      "_________________________________________________________________\n",
      "activation_9 (Activation)    (None, 85, 85, 64)        0         \n",
      "_________________________________________________________________\n",
      "batch_normalization_8 (Batch (None, 85, 85, 64)        256       \n",
      "_________________________________________________________________\n",
      "max_pooling2d_4 (MaxPooling2 (None, 42, 42, 64)        0         \n",
      "_________________________________________________________________\n",
      "dropout_5 (Dropout)          (None, 42, 42, 64)        0         \n",
      "_________________________________________________________________\n",
      "conv2d_8 (Conv2D)            (None, 42, 42, 128)       73856     \n",
      "_________________________________________________________________\n",
      "activation_10 (Activation)   (None, 42, 42, 128)       0         \n",
      "_________________________________________________________________\n",
      "batch_normalization_9 (Batch (None, 42, 42, 128)       512       \n",
      "_________________________________________________________________\n",
      "conv2d_9 (Conv2D)            (None, 42, 42, 128)       147584    \n",
      "_________________________________________________________________\n",
      "activation_11 (Activation)   (None, 42, 42, 128)       0         \n",
      "_________________________________________________________________\n",
      "batch_normalization_10 (Batc (None, 42, 42, 128)       512       \n",
      "_________________________________________________________________\n",
      "max_pooling2d_5 (MaxPooling2 (None, 21, 21, 128)       0         \n",
      "_________________________________________________________________\n",
      "dropout_6 (Dropout)          (None, 21, 21, 128)       0         \n",
      "_________________________________________________________________\n",
      "flatten_1 (Flatten)          (None, 56448)             0         \n",
      "_________________________________________________________________\n",
      "dense_2 (Dense)              (None, 1024)              57803776  \n",
      "_________________________________________________________________\n",
      "activation_12 (Activation)   (None, 1024)              0         \n",
      "_________________________________________________________________\n",
      "batch_normalization_11 (Batc (None, 1024)              4096      \n",
      "_________________________________________________________________\n",
      "dropout_7 (Dropout)          (None, 1024)              0         \n",
      "_________________________________________________________________\n",
      "dense_3 (Dense)              (None, 15)                15375     \n",
      "_________________________________________________________________\n",
      "activation_13 (Activation)   (None, 15)                0         \n",
      "=================================================================\n",
      "Total params: 58,102,671\n",
      "Trainable params: 58,099,791\n",
      "Non-trainable params: 2,880\n",
      "_________________________________________________________________\n"
     ]
    }
   ],
   "source": [
    "model.summary()"
   ]
  },
  {
   "cell_type": "code",
   "execution_count": 89,
   "id": "c6a8b3dd",
   "metadata": {},
   "outputs": [],
   "source": [
    "# Train Model"
   ]
  },
  {
   "cell_type": "code",
   "execution_count": 90,
   "id": "3d357e50",
   "metadata": {},
   "outputs": [],
   "source": [
    "# initialize Adam optimizer with learning rate and decay parameters.\n",
    "# Also, we choose the type of loss and metrics for the model and compile it for training."
   ]
  },
  {
   "cell_type": "code",
   "execution_count": 91,
   "id": "7df25550",
   "metadata": {},
   "outputs": [
    {
     "name": "stdout",
     "output_type": "stream",
     "text": [
      "[INFO] Training network...\n",
      "Epoch 1/25\n",
      "73/73 [==============================] - 742s 10s/step - loss: 0.2161 - accuracy: 0.3950 - val_loss: 1.1808 - val_accuracy: 0.0660\n",
      "Epoch 2/25\n",
      "73/73 [==============================] - 748s 10s/step - loss: 0.1651 - accuracy: 0.5221 - val_loss: 0.9258 - val_accuracy: 0.0626\n",
      "Epoch 3/25\n",
      "73/73 [==============================] - 746s 10s/step - loss: 0.1362 - accuracy: 0.5925 - val_loss: 0.9009 - val_accuracy: 0.0812\n",
      "Epoch 4/25\n",
      "73/73 [==============================] - 745s 10s/step - loss: 0.1194 - accuracy: 0.6569 - val_loss: 0.8484 - val_accuracy: 0.1489\n",
      "Epoch 5/25\n",
      "73/73 [==============================] - 729s 10s/step - loss: 0.0991 - accuracy: 0.7183 - val_loss: 1.3699 - val_accuracy: 0.1049\n",
      "Epoch 6/25\n",
      "73/73 [==============================] - 723s 10s/step - loss: 0.0946 - accuracy: 0.7269 - val_loss: 0.5759 - val_accuracy: 0.2047\n",
      "Epoch 7/25\n",
      "73/73 [==============================] - 723s 10s/step - loss: 0.0869 - accuracy: 0.7497 - val_loss: 0.3394 - val_accuracy: 0.4196\n",
      "Epoch 8/25\n",
      "73/73 [==============================] - 734s 10s/step - loss: 0.0843 - accuracy: 0.7510 - val_loss: 0.4306 - val_accuracy: 0.3858\n",
      "Epoch 9/25\n",
      "73/73 [==============================] - 801s 11s/step - loss: 0.0787 - accuracy: 0.7802 - val_loss: 0.6806 - val_accuracy: 0.3350\n",
      "Epoch 10/25\n",
      "73/73 [==============================] - 724s 10s/step - loss: 0.0803 - accuracy: 0.7686 - val_loss: 0.4608 - val_accuracy: 0.3773\n",
      "Epoch 11/25\n",
      "73/73 [==============================] - 704s 10s/step - loss: 0.0826 - accuracy: 0.7501 - val_loss: 0.8497 - val_accuracy: 0.1895\n",
      "Epoch 12/25\n",
      "73/73 [==============================] - 1316s 18s/step - loss: 0.0803 - accuracy: 0.7626 - val_loss: 0.5893 - val_accuracy: 0.3266\n",
      "Epoch 13/25\n",
      "73/73 [==============================] - 734s 10s/step - loss: 0.0769 - accuracy: 0.7703 - val_loss: 0.1517 - val_accuracy: 0.6701\n",
      "Epoch 14/25\n",
      "73/73 [==============================] - 705s 10s/step - loss: 0.0682 - accuracy: 0.8042 - val_loss: 0.3130 - val_accuracy: 0.5533\n",
      "Epoch 15/25\n",
      "73/73 [==============================] - 707s 10s/step - loss: 0.0563 - accuracy: 0.8343 - val_loss: 0.3329 - val_accuracy: 0.4704\n",
      "Epoch 16/25\n",
      "73/73 [==============================] - 703s 10s/step - loss: 0.0640 - accuracy: 0.8201 - val_loss: 0.3579 - val_accuracy: 0.4112\n",
      "Epoch 17/25\n",
      "73/73 [==============================] - 713s 10s/step - loss: 0.0559 - accuracy: 0.8398 - val_loss: 0.1318 - val_accuracy: 0.7056\n",
      "Epoch 18/25\n",
      "73/73 [==============================] - 1080s 15s/step - loss: 0.0486 - accuracy: 0.8596 - val_loss: 0.1299 - val_accuracy: 0.6904\n",
      "Epoch 19/25\n",
      "73/73 [==============================] - 733s 10s/step - loss: 0.0537 - accuracy: 0.8450 - val_loss: 0.3684 - val_accuracy: 0.4501\n",
      "Epoch 20/25\n",
      "73/73 [==============================] - 723s 10s/step - loss: 0.0486 - accuracy: 0.8574 - val_loss: 0.3996 - val_accuracy: 0.4992\n",
      "Epoch 21/25\n",
      "73/73 [==============================] - 708s 10s/step - loss: 0.0437 - accuracy: 0.8763 - val_loss: 0.2891 - val_accuracy: 0.5516\n",
      "Epoch 22/25\n",
      "73/73 [==============================] - 706s 10s/step - loss: 0.0491 - accuracy: 0.8566 - val_loss: 0.3779 - val_accuracy: 0.5025\n",
      "Epoch 23/25\n",
      "73/73 [==============================] - 704s 10s/step - loss: 0.0411 - accuracy: 0.8888 - val_loss: 0.6017 - val_accuracy: 0.4078\n",
      "Epoch 24/25\n",
      "73/73 [==============================] - 706s 10s/step - loss: 0.0432 - accuracy: 0.8712 - val_loss: 0.3315 - val_accuracy: 0.5195\n",
      "Epoch 25/25\n",
      "73/73 [==============================] - 708s 10s/step - loss: 0.0384 - accuracy: 0.8901 - val_loss: 0.2344 - val_accuracy: 0.6345\n"
     ]
    }
   ],
   "source": [
    "# Initialize optimizer\n",
    "opt = Adam(lr=LR, decay=LR / EPOCHS)\n",
    "\n",
    "# Compile model\n",
    "model.compile(loss=\"binary_crossentropy\", optimizer=opt, metrics=[\"accuracy\"])\n",
    "\n",
    "# Train model\n",
    "print(\"[INFO] Training network...\")\n",
    "history = model.fit(augment.flow(x_train, y_train, batch_size=BATCH_SIZE),\n",
    "                              validation_data=(x_test, y_test),\n",
    "                              steps_per_epoch=len(x_train) // BATCH_SIZE,\n",
    "                              epochs=EPOCHS, \n",
    "                              verbose=1)"
   ]
  },
  {
   "cell_type": "code",
   "execution_count": 92,
   "id": "c0701ecf",
   "metadata": {},
   "outputs": [],
   "source": [
    "# Comparing the accuracy and loss by plotting the graph for training and validation.\n"
   ]
  },
  {
   "cell_type": "code",
   "execution_count": 93,
   "id": "64aa0897",
   "metadata": {},
   "outputs": [],
   "source": [
    "acc = history.history['accuracy']\n",
    "val_acc = history.history['val_accuracy']\n",
    "loss = history.history['loss']\n",
    "val_loss = history.history['val_loss']\n",
    "epochs = range(1, len(acc) + 1)"
   ]
  },
  {
   "cell_type": "code",
   "execution_count": 94,
   "id": "76990667",
   "metadata": {},
   "outputs": [
    {
     "data": {
      "text/plain": [
       "<Figure size 432x288 with 0 Axes>"
      ]
     },
     "execution_count": 94,
     "metadata": {},
     "output_type": "execute_result"
    },
    {
     "data": {
      "image/png": "[encoded data removed]",
      "text/plain": [
       "<Figure size 432x288 with 1 Axes>"
      ]
     },
     "metadata": {
      "needs_background": "light"
     },
     "output_type": "display_data"
    },
    {
     "data": {
      "text/plain": [
       "<Figure size 432x288 with 0 Axes>"
      ]
     },
     "metadata": {},
     "output_type": "display_data"
    }
   ],
   "source": [
    "# Train and validation accuracy\n",
    "plt.plot(epochs, acc, 'b', label='Training accurarcy')\n",
    "plt.plot(epochs, val_acc, 'r', label='Validation accurarcy')\n",
    "plt.title('Training and Validation accurarcy')\n",
    "plt.legend()\n",
    "plt.figure()"
   ]
  },
  {
   "cell_type": "code",
   "execution_count": 95,
   "id": "3915e8e4",
   "metadata": {},
   "outputs": [
    {
     "data": {
      "image/png": "[encoded data removed]",
      "text/plain": [
       "<Figure size 432x288 with 1 Axes>"
      ]
     },
     "metadata": {
      "needs_background": "light"
     },
     "output_type": "display_data"
    }
   ],
   "source": [
    "# Train and validation loss\n",
    "plt.plot(epochs, loss, 'b', label='Training loss')\n",
    "plt.plot(epochs, val_loss, 'r', label='Validation loss')\n",
    "plt.title('Training and Validation loss')\n",
    "plt.legend()\n",
    "plt.show()"
   ]
  },
  {
   "cell_type": "code",
   "execution_count": 96,
   "id": "75c776cb",
   "metadata": {},
   "outputs": [],
   "source": [
    "# Evaluating model accuracy by using the evaluate method"
   ]
  },
  {
   "cell_type": "code",
   "execution_count": 97,
   "id": "ec8a56a4",
   "metadata": {},
   "outputs": [
    {
     "name": "stdout",
     "output_type": "stream",
     "text": [
      "[INFO] Calculating model accuracy\n",
      "19/19 [==============================] - 26s 1s/step - loss: 0.2344 - accuracy: 0.6345\n",
      "Test Accuracy: 63.45177888870239\n"
     ]
    }
   ],
   "source": [
    "print(\"[INFO] Calculating model accuracy\")\n",
    "scores = model.evaluate(x_test, y_test)\n",
    "print(f\"Test Accuracy: {scores[1]*100}\")"
   ]
  },
  {
   "cell_type": "code",
   "execution_count": 98,
   "id": "b9db7732",
   "metadata": {},
   "outputs": [
    {
     "name": "stdout",
     "output_type": "stream",
     "text": [
      "[INFO] Saving model...\n"
     ]
    }
   ],
   "source": [
    "# Dump pickle file of the model\n",
    "model.save(\"Plant_Model.hdf5\")\n",
    "print(\"[INFO] Saving model...\")\n",
    "# pickle.dump(model,open('plant_disease_classification_model.pkl', 'wb'))\n"
   ]
  },
  {
   "cell_type": "code",
   "execution_count": null,
   "id": "fce8ea86",
   "metadata": {},
   "outputs": [],
   "source": []
  }
 ],
 "metadata": {
  "kernelspec": {
   "display_name": "Python 3",
   "language": "python",
   "name": "python3"
  },
  "language_info": {
   "codemirror_mode": {
    "name": "ipython",
    "version": 3
   },
   "file_extension": ".py",
   "mimetype": "text/x-python",
   "name": "python",
   "nbconvert_exporter": "python",
   "pygments_lexer": "ipython3",
   "version": "3.8.8"
  }
 },
 "nbformat": 4,
 "nbformat_minor": 5
}
