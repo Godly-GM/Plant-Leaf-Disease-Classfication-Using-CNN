{
 "cells": [
  {
   "cell_type": "markdown",
   "id": "568bbcbe",
   "metadata": {},
   "source": [
    "# PLANT LEAF DISEASE CLASSFICATION"
   ]
  },
  {
   "cell_type": "code",
   "execution_count": 3,
   "id": "e5ba1144",
   "metadata": {},
   "outputs": [],
   "source": [
    "import numpy as np\n",
    "import pickle\n",
    "import cv2\n",
    "import os\n",
    "import matplotlib.pyplot as plt\n",
    "from os import listdir\n",
    "from sklearn.preprocessing import LabelBinarizer\n",
    "from keras.models import Sequential\n",
    "from keras.layers.normalization import BatchNormalization\n",
    "from keras.layers.convolutional import Conv2D\n",
    "from keras.layers.convolutional import MaxPooling2D\n",
    "from keras.layers.core import Activation, Flatten, Dropout, Dense\n",
    "from keras import backend as K\n",
    "from keras.preprocessing.image import ImageDataGenerator\n",
    "from keras.optimizers import Adam\n",
    "from keras.preprocessing import image\n",
    "from keras.preprocessing.image import img_to_array\n",
    "from sklearn.preprocessing import MultiLabelBinarizer\n",
    "from sklearn.model_selection import train_test_split"
   ]
  },
  {
   "cell_type": "code",
   "execution_count": 3,
   "id": "321c3776",
   "metadata": {},
   "outputs": [],
   "source": [
    "# Loading Dataset\n",
    "# initializing parameters req for the img dataset preprosseing"
   ]
  },
  {
   "cell_type": "code",
   "execution_count": 8,
   "id": "68c1c8d8",
   "metadata": {},
   "outputs": [],
   "source": [
    "# Dimension of resized image\n",
    "DEFAULT_IMAGE_SIZE = tuple((256, 256))\n",
    "\n",
    "# Number of images used to train the model\n",
    "N_IMAGES = 300\n",
    "\n",
    "# Path to the dataset folder\n",
    "root_dir = 'Plant_dataset//'\n",
    "\n",
    "train_dir = os.path.join(root_dir, 'color')"
   ]
  },
  {
   "cell_type": "code",
   "execution_count": 9,
   "id": "031089b8",
   "metadata": {},
   "outputs": [
    {
     "name": "stdout",
     "output_type": "stream",
     "text": [
      "['Apple___Apple_scab', 'Apple___Black_rot', 'Apple___Cedar_apple_rust', 'Apple___healthy', 'Blueberry___healthy', 'Cherry_(including_sour)___healthy', 'Cherry_(including_sour)___Powdery_mildew', 'Corn_(maize)___Cercospora_leaf_spot Gray_leaf_spot', 'Corn_(maize)___Common_rust_', 'Corn_(maize)___healthy', 'Corn_(maize)___Northern_Leaf_Blight', 'Grape___Black_rot', 'Grape___Esca_(Black_Measles)', 'Grape___healthy', 'Grape___Leaf_blight_(Isariopsis_Leaf_Spot)', 'Orange___Haunglongbing_(Citrus_greening)', 'Peach___Bacterial_spot', 'Peach___healthy', 'Pepper,_bell___Bacterial_spot', 'Pepper,_bell___healthy', 'Potato___Early_blight', 'Potato___healthy', 'Potato___Late_blight', 'Raspberry___healthy', 'Soybean___healthy', 'Squash___Powdery_mildew', 'Strawberry___healthy', 'Strawberry___Leaf_scorch', 'Tomato___Bacterial_spot', 'Tomato___Early_blight', 'Tomato___healthy', 'Tomato___Late_blight', 'Tomato___Leaf_Mold', 'Tomato___Septoria_leaf_spot', 'Tomato___Spider_mites Two-spotted_spider_mite', 'Tomato___Target_Spot', 'Tomato___Tomato_mosaic_virus', 'Tomato___Tomato_Yellow_Leaf_Curl_Virus']\n"
     ]
    }
   ],
   "source": [
    "f = os.listdir(train_dir)\n",
    "print(f)\n",
    "# plant_disease_folder_list = listdir(train_dir)\n",
    "# print(plant_disease_folder_list)"
   ]
  },
  {
   "cell_type": "code",
   "execution_count": 10,
   "id": "ef0dc7b7",
   "metadata": {},
   "outputs": [],
   "source": [
    "# convert images to array\n",
    "def convert_image_to_array(image_dir):\n",
    "    try:\n",
    "        image = cv2.imread(image_dir)\n",
    "        if image is not None:\n",
    "            image = cv2.resize(image, DEFAULT_IMAGE_SIZE)   \n",
    "            return img_to_array(image)\n",
    "        else:\n",
    "            return np.array([])\n",
    "    except Exception as e:\n",
    "        print(f\"Error : {e}\")\n",
    "        return None"
   ]
  },
  {
   "cell_type": "code",
   "execution_count": 11,
   "id": "f9e81378",
   "metadata": {},
   "outputs": [
    {
     "name": "stdout",
     "output_type": "stream",
     "text": [
      "[INFO] Loading images ...\n",
      "[INFO] Processing Apple___Apple_scab ...\n",
      "[INFO] Processing Apple___Black_rot ...\n",
      "[INFO] Processing Apple___Cedar_apple_rust ...\n",
      "[INFO] Processing Apple___healthy ...\n",
      "[INFO] Processing Blueberry___healthy ...\n",
      "[INFO] Processing Cherry_(including_sour)___healthy ...\n",
      "[INFO] Processing Cherry_(including_sour)___Powdery_mildew ...\n",
      "[INFO] Processing Corn_(maize)___Cercospora_leaf_spot Gray_leaf_spot ...\n",
      "[INFO] Processing Corn_(maize)___Common_rust_ ...\n",
      "[INFO] Processing Corn_(maize)___healthy ...\n",
      "[INFO] Processing Corn_(maize)___Northern_Leaf_Blight ...\n",
      "[INFO] Processing Grape___Black_rot ...\n",
      "[INFO] Processing Grape___Esca_(Black_Measles) ...\n",
      "[INFO] Processing Grape___healthy ...\n",
      "[INFO] Processing Grape___Leaf_blight_(Isariopsis_Leaf_Spot) ...\n",
      "[INFO] Processing Orange___Haunglongbing_(Citrus_greening) ...\n",
      "[INFO] Processing Peach___Bacterial_spot ...\n",
      "[INFO] Processing Peach___healthy ...\n",
      "[INFO] Processing Pepper,_bell___Bacterial_spot ...\n",
      "[INFO] Processing Pepper,_bell___healthy ...\n",
      "[INFO] Processing Potato___Early_blight ...\n",
      "[INFO] Processing Potato___healthy ...\n",
      "[INFO] Processing Potato___Late_blight ...\n",
      "[INFO] Processing Raspberry___healthy ...\n",
      "[INFO] Processing Soybean___healthy ...\n",
      "[INFO] Processing Squash___Powdery_mildew ...\n",
      "[INFO] Processing Strawberry___healthy ...\n",
      "[INFO] Processing Strawberry___Leaf_scorch ...\n",
      "[INFO] Processing Tomato___Bacterial_spot ...\n",
      "[INFO] Processing Tomato___Early_blight ...\n",
      "[INFO] Processing Tomato___healthy ...\n",
      "[INFO] Processing Tomato___Late_blight ...\n",
      "[INFO] Processing Tomato___Leaf_Mold ...\n",
      "[INFO] Processing Tomato___Septoria_leaf_spot ...\n",
      "[INFO] Processing Tomato___Spider_mites Two-spotted_spider_mite ...\n",
      "[INFO] Processing Tomato___Target_Spot ...\n",
      "[INFO] Processing Tomato___Tomato_mosaic_virus ...\n",
      "[INFO] Processing Tomato___Tomato_Yellow_Leaf_Curl_Virus ...\n",
      "[INFO] Image loading completed\n"
     ]
    }
   ],
   "source": [
    "image_list, label_list = [], []\n",
    "\n",
    "try:\n",
    "    print(\"[INFO] Loading images ...\")\n",
    "#     print(\"sads\")\n",
    "    plant_disease_folder_list = listdir(train_dir)\n",
    "#     print(plant_disease_folder_list)\n",
    "\n",
    "    for plant_disease_folder in plant_disease_folder_list:\n",
    "        print(f\"[INFO] Processing {plant_disease_folder} ...\")\n",
    "        plant_disease_image_list = listdir(f\"{train_dir}/{plant_disease_folder}/\")\n",
    "#         print(plant_disease_image_list)\n",
    "#         print(plant_disease_image_list[:N_IMAGES])\n",
    "\n",
    "        for image in plant_disease_image_list[:N_IMAGES]:\n",
    "            image_directory = f\"{train_dir}/{plant_disease_folder}/{image}\"\n",
    "#             print(image_directory)\n",
    "\n",
    "            if image_directory.endswith(\".jpg\")==True or image_directory.endswith(\".JPG\")==True:\n",
    "                image_list.append(convert_image_to_array(image_directory))\n",
    "                label_list.append(plant_disease_folder)\n",
    "\n",
    "    print(\"[INFO] Image loading completed\")  \n",
    "except Exception as e:\n",
    "    print(f\"Error : {e}\")\n",
    "\n",
    "# Transform the loaded training image data into numpy array\n",
    "np_image_list = np.array(image_list, dtype=np.float16) / 225.0"
   ]
  },
  {
   "cell_type": "code",
   "execution_count": 13,
   "id": "ef8193f6",
   "metadata": {},
   "outputs": [
    {
     "name": "stdout",
     "output_type": "stream",
     "text": [
      "Total number of images: 11227\n"
     ]
    }
   ],
   "source": [
    "# Check the number of images loaded for training\n",
    "image_len = len(image_list)\n",
    "print(f\"Total number of images: {image_len}\")"
   ]
  },
  {
   "cell_type": "code",
   "execution_count": 14,
   "id": "d421177e",
   "metadata": {
    "scrolled": true
   },
   "outputs": [],
   "source": [
    "# Examine the labels/classes in the training dataset\n",
    "\n",
    "label_binarizer = LabelBinarizer()\n",
    "image_labels = label_binarizer.fit_transform(label_list)\n",
    "# print(image_labels)"
   ]
  },
  {
   "cell_type": "code",
   "execution_count": 15,
   "id": "a5167721",
   "metadata": {},
   "outputs": [
    {
     "name": "stdout",
     "output_type": "stream",
     "text": [
      "Total number of classes:  38\n"
     ]
    }
   ],
   "source": [
    "pickle.dump(label_binarizer,open('plant_disease_label_transform.pkl', 'wb'))\n",
    "n_classes = len(label_binarizer.classes_)\n",
    "\n",
    "print(\"Total number of classes: \", n_classes)"
   ]
  },
  {
   "cell_type": "code",
   "execution_count": 16,
   "id": "702a1183",
   "metadata": {},
   "outputs": [
    {
     "name": "stdout",
     "output_type": "stream",
     "text": [
      "['Apple___Apple_scab' 'Apple___Black_rot' 'Apple___Cedar_apple_rust'\n",
      " 'Apple___healthy' 'Blueberry___healthy'\n",
      " 'Cherry_(including_sour)___Powdery_mildew'\n",
      " 'Cherry_(including_sour)___healthy'\n",
      " 'Corn_(maize)___Cercospora_leaf_spot Gray_leaf_spot'\n",
      " 'Corn_(maize)___Common_rust_' 'Corn_(maize)___Northern_Leaf_Blight'\n",
      " 'Corn_(maize)___healthy' 'Grape___Black_rot'\n",
      " 'Grape___Esca_(Black_Measles)'\n",
      " 'Grape___Leaf_blight_(Isariopsis_Leaf_Spot)' 'Grape___healthy'\n",
      " 'Orange___Haunglongbing_(Citrus_greening)' 'Peach___Bacterial_spot'\n",
      " 'Peach___healthy' 'Pepper,_bell___Bacterial_spot'\n",
      " 'Pepper,_bell___healthy' 'Potato___Early_blight' 'Potato___Late_blight'\n",
      " 'Potato___healthy' 'Raspberry___healthy' 'Soybean___healthy'\n",
      " 'Squash___Powdery_mildew' 'Strawberry___Leaf_scorch'\n",
      " 'Strawberry___healthy' 'Tomato___Bacterial_spot' 'Tomato___Early_blight'\n",
      " 'Tomato___Late_blight' 'Tomato___Leaf_Mold' 'Tomato___Septoria_leaf_spot'\n",
      " 'Tomato___Spider_mites Two-spotted_spider_mite' 'Tomato___Target_Spot'\n",
      " 'Tomato___Tomato_Yellow_Leaf_Curl_Virus' 'Tomato___Tomato_mosaic_virus'\n",
      " 'Tomato___healthy']\n"
     ]
    }
   ],
   "source": [
    "print(label_binarizer.classes_)"
   ]
  },
  {
   "cell_type": "code",
   "execution_count": 17,
   "id": "995d623a",
   "metadata": {},
   "outputs": [
    {
     "name": "stdout",
     "output_type": "stream",
     "text": [
      "<tensorflow.python.keras.preprocessing.image.ImageDataGenerator object at 0x00000146D2D66D60>\n"
     ]
    }
   ],
   "source": [
    "# Using ImageDataGenerator to augment data by performing various operations on the training images.\n",
    "\n",
    "augment = ImageDataGenerator(rotation_range=25, width_shift_range=0.1,\n",
    "                             height_shift_range=0.1, shear_range=0.2, \n",
    "                             zoom_range=0.2, horizontal_flip=True, \n",
    "                             fill_mode=\"nearest\")\n",
    "\n",
    "print(augment)"
   ]
  },
  {
   "cell_type": "code",
   "execution_count": 18,
   "id": "0fccc0c9",
   "metadata": {},
   "outputs": [
    {
     "name": "stdout",
     "output_type": "stream",
     "text": [
      "[INFO] Splitting data to train and test...\n"
     ]
    }
   ],
   "source": [
    "# Splitting the data into training and test sets for validation purpose.\n",
    "\n",
    "print(\"[INFO] Splitting data to train and test...\")\n",
    "x_train, x_test, y_train, y_test = train_test_split(np_image_list, image_labels, test_size=0.2, random_state = 42) "
   ]
  },
  {
   "cell_type": "code",
   "execution_count": 19,
   "id": "3ae23bfd",
   "metadata": {},
   "outputs": [],
   "source": [
    "# EPOCHS = 25\n",
    "EPOCHS = 35\n",
    "STEPS = 100\n",
    "LR = 1e-3  #The initial learning rate — a value of 1e-3 is the default value for the Adam optimizer, the optimizer we will be using to train the network\n",
    "BATCH_SIZE = 32\n",
    "WIDTH = 256\n",
    "HEIGHT = 256\n",
    "DEPTH = 3"
   ]
  },
  {
   "cell_type": "markdown",
   "id": "bf2337c7",
   "metadata": {},
   "source": [
    "Creating a sequential model and adding Convolutional, Normalization, Pooling, Dropout and Activation layers at the appropriate positions."
   ]
  },
  {
   "cell_type": "code",
   "execution_count": 20,
   "id": "b41da2d8",
   "metadata": {},
   "outputs": [],
   "source": [
    "model = Sequential()\n",
    "inputShape = (HEIGHT, WIDTH, DEPTH)\n",
    "chanDim = -1\n",
    "\n",
    "if K.image_data_format() == \"channels_first\":\n",
    "    inputShape = (DEPTH, HEIGHT, WIDTH)\n",
    "    chanDim = 1\n",
    "\n",
    "model.add(Conv2D(32, (3, 3), padding=\"same\",input_shape=inputShape))\n",
    "model.add(Activation(\"relu\"))\n",
    "model.add(BatchNormalization(axis=chanDim))\n",
    "model.add(MaxPooling2D(pool_size=(3, 3)))\n",
    "model.add(Dropout(0.25))\n",
    "\n",
    "model.add(Conv2D(64, (3, 3), padding=\"same\"))\n",
    "model.add(Activation(\"relu\"))\n",
    "model.add(BatchNormalization(axis=chanDim))\n",
    "\n",
    "model.add(Conv2D(64, (3, 3), padding=\"same\"))\n",
    "model.add(Activation(\"relu\"))\n",
    "model.add(BatchNormalization(axis=chanDim))\n",
    "model.add(MaxPooling2D(pool_size=(2, 2)))\n",
    "model.add(Dropout(0.25))\n",
    "\n",
    "model.add(Conv2D(128, (3, 3), padding=\"same\"))\n",
    "model.add(Activation(\"relu\"))\n",
    "model.add(BatchNormalization(axis=chanDim))\n",
    "\n",
    "model.add(Conv2D(128, (3, 3), padding=\"same\"))\n",
    "model.add(Activation(\"relu\"))\n",
    "model.add(BatchNormalization(axis=chanDim))\n",
    "model.add(MaxPooling2D(pool_size=(2, 2)))\n",
    "model.add(Dropout(0.25))\n",
    "\n",
    "model.add(Flatten())\n",
    "model.add(Dense(1024))\n",
    "model.add(Activation(\"relu\"))\n",
    "model.add(BatchNormalization())\n",
    "model.add(Dropout(0.5))\n",
    "model.add(Dense(n_classes))\n",
    "model.add(Activation(\"softmax\"))\n"
   ]
  },
  {
   "cell_type": "code",
   "execution_count": 21,
   "id": "657420ba",
   "metadata": {},
   "outputs": [
    {
     "name": "stdout",
     "output_type": "stream",
     "text": [
      "Model: \"sequential\"\n",
      "_________________________________________________________________\n",
      "Layer (type)                 Output Shape              Param #   \n",
      "=================================================================\n",
      "conv2d (Conv2D)              (None, 256, 256, 32)      896       \n",
      "_________________________________________________________________\n",
      "activation (Activation)      (None, 256, 256, 32)      0         \n",
      "_________________________________________________________________\n",
      "batch_normalization (BatchNo (None, 256, 256, 32)      128       \n",
      "_________________________________________________________________\n",
      "max_pooling2d (MaxPooling2D) (None, 85, 85, 32)        0         \n",
      "_________________________________________________________________\n",
      "dropout (Dropout)            (None, 85, 85, 32)        0         \n",
      "_________________________________________________________________\n",
      "conv2d_1 (Conv2D)            (None, 85, 85, 64)        18496     \n",
      "_________________________________________________________________\n",
      "activation_1 (Activation)    (None, 85, 85, 64)        0         \n",
      "_________________________________________________________________\n",
      "batch_normalization_1 (Batch (None, 85, 85, 64)        256       \n",
      "_________________________________________________________________\n",
      "conv2d_2 (Conv2D)            (None, 85, 85, 64)        36928     \n",
      "_________________________________________________________________\n",
      "activation_2 (Activation)    (None, 85, 85, 64)        0         \n",
      "_________________________________________________________________\n",
      "batch_normalization_2 (Batch (None, 85, 85, 64)        256       \n",
      "_________________________________________________________________\n",
      "max_pooling2d_1 (MaxPooling2 (None, 42, 42, 64)        0         \n",
      "_________________________________________________________________\n",
      "dropout_1 (Dropout)          (None, 42, 42, 64)        0         \n",
      "_________________________________________________________________\n",
      "conv2d_3 (Conv2D)            (None, 42, 42, 128)       73856     \n",
      "_________________________________________________________________\n",
      "activation_3 (Activation)    (None, 42, 42, 128)       0         \n",
      "_________________________________________________________________\n",
      "batch_normalization_3 (Batch (None, 42, 42, 128)       512       \n",
      "_________________________________________________________________\n",
      "conv2d_4 (Conv2D)            (None, 42, 42, 128)       147584    \n",
      "_________________________________________________________________\n",
      "activation_4 (Activation)    (None, 42, 42, 128)       0         \n",
      "_________________________________________________________________\n",
      "batch_normalization_4 (Batch (None, 42, 42, 128)       512       \n",
      "_________________________________________________________________\n",
      "max_pooling2d_2 (MaxPooling2 (None, 21, 21, 128)       0         \n",
      "_________________________________________________________________\n",
      "dropout_2 (Dropout)          (None, 21, 21, 128)       0         \n",
      "_________________________________________________________________\n",
      "flatten (Flatten)            (None, 56448)             0         \n",
      "_________________________________________________________________\n",
      "dense (Dense)                (None, 1024)              57803776  \n",
      "_________________________________________________________________\n",
      "activation_5 (Activation)    (None, 1024)              0         \n",
      "_________________________________________________________________\n",
      "batch_normalization_5 (Batch (None, 1024)              4096      \n",
      "_________________________________________________________________\n",
      "dropout_3 (Dropout)          (None, 1024)              0         \n",
      "_________________________________________________________________\n",
      "dense_1 (Dense)              (None, 38)                38950     \n",
      "_________________________________________________________________\n",
      "activation_6 (Activation)    (None, 38)                0         \n",
      "=================================================================\n",
      "Total params: 58,126,246\n",
      "Trainable params: 58,123,366\n",
      "Non-trainable params: 2,880\n",
      "_________________________________________________________________\n"
     ]
    }
   ],
   "source": [
    "model.summary()"
   ]
  },
  {
   "cell_type": "code",
   "execution_count": 22,
   "id": "c6a8b3dd",
   "metadata": {},
   "outputs": [],
   "source": [
    "# Train Model"
   ]
  },
  {
   "cell_type": "code",
   "execution_count": 23,
   "id": "3d357e50",
   "metadata": {},
   "outputs": [],
   "source": [
    "# initialize Adam optimizer with learning rate and decay parameters.\n",
    "# Also, we choose the type of loss and metrics for the model and compile it for training."
   ]
  },
  {
   "cell_type": "code",
   "execution_count": null,
   "id": "11cbb0be",
   "metadata": {},
   "outputs": [],
   "source": []
  },
  {
   "cell_type": "code",
   "execution_count": 24,
   "id": "7df25550",
   "metadata": {},
   "outputs": [
    {
     "name": "stdout",
     "output_type": "stream",
     "text": [
      "[INFO] Training network...\n",
      "Epoch 1/35\n",
      "280/280 [==============================] - 2797s 10s/step - loss: 0.0847 - accuracy: 0.4037 - val_loss: 0.2117 - val_accuracy: 0.0819\n",
      "Epoch 2/35\n",
      "280/280 [==============================] - 2761s 10s/step - loss: 0.0554 - accuracy: 0.6044 - val_loss: 0.0707 - val_accuracy: 0.5525\n",
      "Epoch 3/35\n",
      "280/280 [==============================] - 2740s 10s/step - loss: 0.0441 - accuracy: 0.6825 - val_loss: 0.1656 - val_accuracy: 0.3856\n",
      "Epoch 4/35\n",
      "280/280 [==============================] - 2741s 10s/step - loss: 0.0402 - accuracy: 0.7139 - val_loss: 0.2652 - val_accuracy: 0.2346\n",
      "Epoch 5/35\n",
      "280/280 [==============================] - 2741s 10s/step - loss: 0.0351 - accuracy: 0.7542 - val_loss: 0.0898 - val_accuracy: 0.5423\n",
      "Epoch 6/35\n",
      "280/280 [==============================] - 2744s 10s/step - loss: 0.0288 - accuracy: 0.7896 - val_loss: 0.0608 - val_accuracy: 0.6736\n",
      "Epoch 7/35\n",
      "280/280 [==============================] - 2738s 10s/step - loss: 0.0263 - accuracy: 0.8150 - val_loss: 0.0594 - val_accuracy: 0.6291\n",
      "Epoch 8/35\n",
      "280/280 [==============================] - 2751s 10s/step - loss: 0.0239 - accuracy: 0.8281 - val_loss: 0.0545 - val_accuracy: 0.6972\n",
      "Epoch 9/35\n",
      "280/280 [==============================] - 2763s 10s/step - loss: 0.0220 - accuracy: 0.8440 - val_loss: 0.1175 - val_accuracy: 0.5494\n",
      "Epoch 10/35\n",
      "280/280 [==============================] - 2742s 10s/step - loss: 0.0213 - accuracy: 0.8471 - val_loss: 0.0640 - val_accuracy: 0.6665\n",
      "Epoch 11/35\n",
      "280/280 [==============================] - 2756s 10s/step - loss: 0.0192 - accuracy: 0.8649 - val_loss: 0.0499 - val_accuracy: 0.7293\n",
      "Epoch 12/35\n",
      "280/280 [==============================] - 2738s 10s/step - loss: 0.0175 - accuracy: 0.8773 - val_loss: 0.0370 - val_accuracy: 0.7680\n",
      "Epoch 13/35\n",
      "280/280 [==============================] - 2755s 10s/step - loss: 0.0167 - accuracy: 0.8807 - val_loss: 0.0577 - val_accuracy: 0.7110\n",
      "Epoch 14/35\n",
      "280/280 [==============================] - 2745s 10s/step - loss: 0.0151 - accuracy: 0.8941 - val_loss: 0.0228 - val_accuracy: 0.8504\n",
      "Epoch 15/35\n",
      "280/280 [==============================] - 2743s 10s/step - loss: 0.0146 - accuracy: 0.8943 - val_loss: 0.0435 - val_accuracy: 0.7471\n",
      "Epoch 16/35\n",
      "280/280 [==============================] - 2748s 10s/step - loss: 0.0140 - accuracy: 0.9013 - val_loss: 0.0782 - val_accuracy: 0.6327\n",
      "Epoch 17/35\n",
      "280/280 [==============================] - 2735s 10s/step - loss: 0.0173 - accuracy: 0.8793 - val_loss: 0.1077 - val_accuracy: 0.5352\n",
      "Epoch 18/35\n",
      "280/280 [==============================] - 2740s 10s/step - loss: 0.0144 - accuracy: 0.9001 - val_loss: 0.0421 - val_accuracy: 0.7516\n",
      "Epoch 19/35\n",
      "280/280 [==============================] - 2740s 10s/step - loss: 0.0135 - accuracy: 0.9007 - val_loss: 0.0481 - val_accuracy: 0.7907\n",
      "Epoch 20/35\n",
      "280/280 [==============================] - 2749s 10s/step - loss: 0.0115 - accuracy: 0.9198 - val_loss: 0.0569 - val_accuracy: 0.7355\n",
      "Epoch 21/35\n",
      "280/280 [==============================] - 2749s 10s/step - loss: 0.0107 - accuracy: 0.9256 - val_loss: 0.0357 - val_accuracy: 0.8152\n",
      "Epoch 22/35\n",
      "280/280 [==============================] - 2790s 10s/step - loss: 0.0112 - accuracy: 0.9217 - val_loss: 0.0650 - val_accuracy: 0.7289\n",
      "Epoch 23/35\n",
      "280/280 [==============================] - 2740s 10s/step - loss: 0.0096 - accuracy: 0.9321 - val_loss: 0.0246 - val_accuracy: 0.8451\n",
      "Epoch 24/35\n",
      "280/280 [==============================] - 2759s 10s/step - loss: 0.0095 - accuracy: 0.9354 - val_loss: 0.0363 - val_accuracy: 0.8059\n",
      "Epoch 25/35\n",
      "280/280 [==============================] - 2745s 10s/step - loss: 0.0099 - accuracy: 0.9319 - val_loss: 0.0978 - val_accuracy: 0.6309\n",
      "Epoch 26/35\n",
      "280/280 [==============================] - 2980s 11s/step - loss: 0.0096 - accuracy: 0.9357 - val_loss: 0.1177 - val_accuracy: 0.6434\n",
      "Epoch 27/35\n",
      "280/280 [==============================] - 2750s 10s/step - loss: 0.0097 - accuracy: 0.9326 - val_loss: 0.0376 - val_accuracy: 0.8143\n",
      "Epoch 28/35\n",
      "280/280 [==============================] - 2874s 10s/step - loss: 0.0091 - accuracy: 0.9364 - val_loss: 0.0896 - val_accuracy: 0.6772\n",
      "Epoch 29/35\n",
      "280/280 [==============================] - 2862s 10s/step - loss: 0.0083 - accuracy: 0.9406 - val_loss: 0.0158 - val_accuracy: 0.9056\n",
      "Epoch 30/35\n",
      "280/280 [==============================] - 2755s 10s/step - loss: 0.0139 - accuracy: 0.9042 - val_loss: 0.0215 - val_accuracy: 0.8793\n",
      "Epoch 31/35\n",
      "280/280 [==============================] - 2968s 11s/step - loss: 0.0089 - accuracy: 0.9392 - val_loss: 0.0620 - val_accuracy: 0.6977\n",
      "Epoch 32/35\n",
      "280/280 [==============================] - 3028s 11s/step - loss: 0.0085 - accuracy: 0.9394 - val_loss: 0.0235 - val_accuracy: 0.8785\n",
      "Epoch 33/35\n",
      "280/280 [==============================] - 2762s 10s/step - loss: 0.0069 - accuracy: 0.9508 - val_loss: 0.0080 - val_accuracy: 0.9457\n",
      "Epoch 34/35\n",
      "280/280 [==============================] - 2743s 10s/step - loss: 0.0072 - accuracy: 0.9512 - val_loss: 0.0146 - val_accuracy: 0.9172\n",
      "Epoch 35/35\n",
      "280/280 [==============================] - 2746s 10s/step - loss: 0.0064 - accuracy: 0.9557 - val_loss: 0.0081 - val_accuracy: 0.9430\n"
     ]
    }
   ],
   "source": [
    "# Initialize optimizer\n",
    "opt = Adam(lr=LR, decay=LR / EPOCHS)\n",
    "\n",
    "# Compile model\n",
    "model.compile(loss=\"binary_crossentropy\", optimizer=opt, metrics=[\"accuracy\"])\n",
    "\n",
    "# Train model\n",
    "print(\"[INFO] Training network...\")\n",
    "history = model.fit(augment.flow(x_train, y_train, batch_size=BATCH_SIZE),\n",
    "                              validation_data=(x_test, y_test),\n",
    "                              steps_per_epoch=len(x_train) // BATCH_SIZE,\n",
    "                              epochs=EPOCHS, \n",
    "                              verbose=1)"
   ]
  },
  {
   "cell_type": "code",
   "execution_count": 25,
   "id": "c0701ecf",
   "metadata": {},
   "outputs": [],
   "source": [
    "# Comparing the accuracy and loss by plotting the graph for training and validation.\n"
   ]
  },
  {
   "cell_type": "code",
   "execution_count": 26,
   "id": "64aa0897",
   "metadata": {},
   "outputs": [],
   "source": [
    "acc = history.history['accuracy']\n",
    "val_acc = history.history['val_accuracy']\n",
    "loss = history.history['loss']\n",
    "val_loss = history.history['val_loss']\n",
    "epochs = range(1, len(acc) + 1)"
   ]
  },
  {
   "cell_type": "code",
   "execution_count": 27,
   "id": "76990667",
   "metadata": {},
   "outputs": [
    {
     "data": {
      "text/plain": [
       "<Figure size 432x288 with 0 Axes>"
      ]
     },
     "execution_count": 27,
     "metadata": {},
     "output_type": "execute_result"
    },
    {
     "data": {
      "image/png": "[encoded data removed]",
      "text/plain": [
       "<Figure size 432x288 with 1 Axes>"
      ]
     },
     "metadata": {
      "needs_background": "light"
     },
     "output_type": "display_data"
    },
    {
     "data": {
      "text/plain": [
       "<Figure size 432x288 with 0 Axes>"
      ]
     },
     "metadata": {},
     "output_type": "display_data"
    }
   ],
   "source": [
    "# Train and validation accuracy\n",
    "plt.plot(epochs, acc, 'b', label='Training accurarcy')\n",
    "plt.plot(epochs, val_acc, 'r', label='Validation accurarcy')\n",
    "plt.title('Training and Validation accurarcy')\n",
    "plt.legend()\n",
    "plt.figure()"
   ]
  },
  {
   "cell_type": "code",
   "execution_count": 28,
   "id": "3915e8e4",
   "metadata": {},
   "outputs": [
    {
     "data": {
      "image/png": "[encoded data removed]",
      "text/plain": [
       "<Figure size 432x288 with 1 Axes>"
      ]
     },
     "metadata": {
      "needs_background": "light"
     },
     "output_type": "display_data"
    }
   ],
   "source": [
    "# Train and validation loss\n",
    "plt.plot(epochs, loss, 'b', label='Training loss')\n",
    "plt.plot(epochs, val_loss, 'r', label='Validation loss')\n",
    "plt.title('Training and Validation loss')\n",
    "plt.legend()\n",
    "plt.show()"
   ]
  },
  {
   "cell_type": "code",
   "execution_count": 29,
   "id": "75c776cb",
   "metadata": {},
   "outputs": [],
   "source": [
    "# Evaluating model accuracy by using the evaluate method"
   ]
  },
  {
   "cell_type": "code",
   "execution_count": 30,
   "id": "ec8a56a4",
   "metadata": {},
   "outputs": [
    {
     "name": "stdout",
     "output_type": "stream",
     "text": [
      "[INFO] Calculating model accuracy\n",
      "71/71 [==============================] - 103s 1s/step - loss: 0.0081 - accuracy: 0.9430\n",
      "Test Accuracy: 94.30097937583923\n"
     ]
    }
   ],
   "source": [
    "print(\"[INFO] Calculating model accuracy\")\n",
    "scores = model.evaluate(x_test, y_test)\n",
    "print(f\"Test Accuracy: {scores[1]*100}\")\n"
   ]
  },
  {
   "cell_type": "code",
   "execution_count": 31,
   "id": "b9db7732",
   "metadata": {},
   "outputs": [
    {
     "name": "stdout",
     "output_type": "stream",
     "text": [
      "[INFO] Saving model...\n"
     ]
    }
   ],
   "source": [
    "# Dump pickle file of the model\n",
    "model.save(\"Plant_Model.hdf5\")\n",
    "print(\"[INFO] Saving model...\")\n",
    "# pickle.dump(model,open('plant_disease_classification_model.pkl', 'wb'))\n"
   ]
  },
  {
   "cell_type": "code",
   "execution_count": null,
   "id": "fce8ea86",
   "metadata": {},
   "outputs": [],
   "source": [
    "    #42 hours taken for training "
   ]
  },
  {
   "cell_type": "code",
   "execution_count": 1,
   "id": "dad5b337",
   "metadata": {},
   "outputs": [],
   "source": [
    "# FOR TESTING MAKE LABLES AS TXT"
   ]
  },
  {
   "cell_type": "code",
   "execution_count": 4,
   "id": "84c99cf2",
   "metadata": {},
   "outputs": [],
   "source": [
    "root_dir = 'Plant_dataset//'\n",
    "\n",
    "train_dir = os.path.join(root_dir, 'color')"
   ]
  },
  {
   "cell_type": "code",
   "execution_count": 6,
   "id": "6d18a122",
   "metadata": {},
   "outputs": [
    {
     "name": "stdout",
     "output_type": "stream",
     "text": [
      "['Apple___Apple_scab', 'Apple___Black_rot', 'Apple___Cedar_apple_rust', 'Apple___healthy', 'Blueberry___healthy', 'Cherry_(including_sour)___healthy', 'Cherry_(including_sour)___Powdery_mildew', 'Corn_(maize)___Cercospora_leaf_spot Gray_leaf_spot', 'Corn_(maize)___Common_rust_', 'Corn_(maize)___healthy', 'Corn_(maize)___Northern_Leaf_Blight', 'Grape___Black_rot', 'Grape___Esca_(Black_Measles)', 'Grape___healthy', 'Grape___Leaf_blight_(Isariopsis_Leaf_Spot)', 'Orange___Haunglongbing_(Citrus_greening)', 'Peach___Bacterial_spot', 'Peach___healthy', 'Pepper,_bell___Bacterial_spot', 'Pepper,_bell___healthy', 'Potato___Early_blight', 'Potato___healthy', 'Potato___Late_blight', 'Raspberry___healthy', 'Soybean___healthy', 'Squash___Powdery_mildew', 'Strawberry___healthy', 'Strawberry___Leaf_scorch', 'Tomato___Bacterial_spot', 'Tomato___Early_blight', 'Tomato___healthy', 'Tomato___Late_blight', 'Tomato___Leaf_Mold', 'Tomato___Septoria_leaf_spot', 'Tomato___Spider_mites Two-spotted_spider_mite', 'Tomato___Target_Spot', 'Tomato___Tomato_mosaic_virus', 'Tomato___Tomato_Yellow_Leaf_Curl_Virus']\n",
      "38\n"
     ]
    }
   ],
   "source": [
    "f = os.listdir(train_dir)\n",
    "print(f)\n",
    "print(len(f))"
   ]
  },
  {
   "cell_type": "code",
   "execution_count": 11,
   "id": "6d7d96d7",
   "metadata": {},
   "outputs": [
    {
     "name": "stdout",
     "output_type": "stream",
     "text": [
      "file write to txt\n"
     ]
    }
   ],
   "source": [
    "# list of names\n",
    "fl = \"labels.txt\"\n",
    "# open file in write mode\n",
    "\n",
    "with open(fl, mode=\"w\") as file:\n",
    "    file.write(\" \".join(f))\n",
    "    print(\"file write to txt\")"
   ]
  },
  {
   "cell_type": "code",
   "execution_count": null,
   "id": "03e79fc0",
   "metadata": {},
   "outputs": [],
   "source": []
  }
 ],
 "metadata": {
  "kernelspec": {
   "display_name": "Python 3",
   "language": "python",
   "name": "python3"
  },
  "language_info": {
   "codemirror_mode": {
    "name": "ipython",
    "version": 3
   },
   "file_extension": ".py",
   "mimetype": "text/x-python",
   "name": "python",
   "nbconvert_exporter": "python",
   "pygments_lexer": "ipython3",
   "version": "3.8.8"
  }
 },
 "nbformat": 4,
 "nbformat_minor": 5
}
